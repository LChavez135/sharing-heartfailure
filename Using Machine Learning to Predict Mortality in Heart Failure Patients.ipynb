{
 "cells": [
  {
   "cell_type": "markdown",
   "metadata": {},
   "source": [
    "# Using Machine Learning to predict mortality in heart failure patients\n",
    "\n",
    "## Author: Luis Chavez"
   ]
  },
  {
   "cell_type": "markdown",
   "metadata": {},
   "source": [
    "# Table of contents\n",
    "\n",
    "- [Abstract](#Abstract)\n",
    "- [Introduction](#Introduction)\n",
    "- [1. The problem](#1.-The-problem)\n",
    "- [2. Purpose of the study](#2.-Purpose-of-the-study)\n",
    "- [3. Project description](#3.-Project-description)\n",
    "    - [3.1 Hypothesis](#3.1-Hypothesis)\n",
    "    - [3.2 Workflow](#3.2-Workflow)\n",
    "    - [3.3 Methods](#3.3-Methods)\n",
    "    - [3.4Analysis](#3.4-Analysis)\n",
    "    - [3.5 Results](#3.5-Results)\n",
    "- [Conclusion](#Conclusion)\n",
    "- [References](#References)"
   ]
  },
  {
   "cell_type": "markdown",
   "metadata": {},
   "source": [
    "# Abstract\n",
    "\n",
    "This project uses the heart failure clinical records data set from the UCI Machine Learning Repository. The dataset is publicly available, and contains data on 13 clinical features from 299 patients who who were admitted to Institute of Cardiology and Allied hospital Faisalabad-Pakistan during April-December (2015) and were followed throughout their follow-up period. Our initial analysis showed that male and female patients had simiar rates of mortality in this study. We also observed that the majority of the mortalities in this study group occurred early on in the follow-up period and waned as the follow-up period went on. We transformed three of our variables (creatinine_phosphokinase, platelets, and serum_sodium) to boolean variables.\n",
    " \n",
    "Using logistic regression, we determined that only 6 variables (age, ejection fraction, serum creatinine, and time, high_cpk, and low_sodium were significant) were statistically signficant. Dropping the other variables had minimal effect on the performance of the model but made the model less complex. We compared logistic regression against 3 other machine learning methods (Linear Support Vector Machine, K-Nearest Neighbors, and Naive Bayes). The Linear Support Vector Machine algorithm was able to predict mortality the most accurately out of all the machine learning algorithms used."
   ]
  },
  {
   "cell_type": "markdown",
   "metadata": {},
   "source": [
    "# Introduction"
   ]
  },
  {
   "cell_type": "markdown",
   "metadata": {
    "tags": []
   },
   "source": [
    "# 1. The problem\n",
    "\n",
    "The problem I am trying to solve is \"What factors are the most predictive of heart failure mortality?\"\n",
    "\n",
    "Heart failure patients can often have multiple underlying health conditions such has high blood pressure, anaemia, diabetes.<br>\n",
    "These conditions along with the litany of diagnostic test results give doctors alot of information but not much direction on what metric they should aim at controlling or improving.<br>This project will try to provide more clarity on what clinical features physicians should focus on in regards to preventing heart failure mortality.\n",
    "\n",
    "[Back to top](#Table-of-contents)"
   ]
  },
  {
   "cell_type": "markdown",
   "metadata": {},
   "source": [
    "# 2. Purpose of the study\n",
    "\n",
    "Heart failure is a deadly health condition in which more than half of those diagnosed die within five years in the United States of America. As a healthcare professional and one of the many Americans with a family history of heart disease, I am interested in applying my machine learning skills and knowledge to this data set to identify what factors are the most predictive of heart failure mortality so that we can optimize patient's course of care.\n",
    "\n",
    "[Back to top](#Table-of-contents)"
   ]
  },
  {
   "cell_type": "markdown",
   "metadata": {},
   "source": [
    "# 3. Project description\n",
    "\n",
    "The steps I took in this project were:\n",
    "1. Importing the dataset\n",
    "2. Exploratory Data Analysis\n",
    "3. Data Transformation\n",
    "4. Modeling with Logistic Regression\n",
    "5. Machine Learning Comparison\n",
    "\n",
    "[Back to top](#Table-of-contents)"
   ]
  },
  {
   "cell_type": "markdown",
   "metadata": {},
   "source": [
    "## 3.1 Hypothesis\n",
    "\n",
    "Since more than half of patients diagnosed with heart failure die within 5 years, I suspect that the factors that contribute to heart failure are not chronic health conditions like anaemia, high blood pressure, or diabetes. I hypothesize that variables that evaluate acute cardiac tissue damage such as creatinine phosphokinase (CPK), serum creatinine, and serum sodium will be predictive of heart failure mortality.<br><br>\n",
    "[Back to top](#Table-of-contents)"
   ]
  },
  {
   "cell_type": "markdown",
   "metadata": {},
   "source": [
    "## 3.2 Workflow\n",
    "\n",
    "What's the process you are going to follow to solve the problem based on the Problem-Solving Framework:\n",
    "\n",
    "- **Define the problem**: Heart Failure Mortality \n",
    "- **Map the System**: Variables\n",
    "- **Define Suitable Metrics**: Data Transformation\n",
    "- **Select Modeling Tools**: Logistic Regression\n",
    "- **Evaluate model**: Compare accuracy score, confusion matrix of logistic regression and 4 other machine learning algorithms\n",
    "\n",
    "[Back to top](#Table-of-contents)"
   ]
  },
  {
   "cell_type": "markdown",
   "metadata": {},
   "source": [
    "## Variable Definitions\n",
    "The 13 variables I will be examining are a mixture of demographic and clinical features that were available in the patients clinical records.<br>\n",
    "Below I have provided a short description of each of the variables we will be examining.<br>\n",
    "I have also added some additional clinical context to some of the variables to demonstrate the importance of them being included in the dataset.\n",
    "\n",
    "1. **Age**: the age of the patient (in years)\n",
    "    - All patients were more than 40 years old\n",
    "2. **Anaemia**: indicates whether the level of red blood cells or hemoglobin were below normal levels (boolean)\n",
    "3. **High blood pressure**: indicates whether the patient has high blood pressure, also known as hypertension (boolean)\n",
    "4. **Creatinine phosphokinase (CPK)**: level of the CPK enzyme in the blood (mcg/L)\n",
    "    - Normal Levels = 10 to 120 micrograms per liter (mcg/L)\n",
    "    - High CPK levels can indicate that the muscle tissue of the heart has been damaged.\n",
    "5. **Diabetes**: if the patient has diabetes (boolean)\n",
    "6. **Ejection fraction**: percentage of blood leaving the heart at each contraction (percentage)\n",
    "    - It is a measure of how well the blood is pumping out blood to the rest of the body\n",
    "    - Normal levels = 50-70%\n",
    "    - Borderline levels = 41-49%\n",
    "    - Reduced levels = less than 40%\n",
    "7. **Platelets**: level of platelets in the blood (kiloplatelets/mL)\n",
    "    - Platelets stop bleeding by clumping and forming plugs in blood vessel injuries.\n",
    "    - Normal levels = 150,000-450,000\n",
    "    - High levels = Above 450,000 (is associated with increased risk of clotting)\n",
    "    - Low levels = Below 150,000 (associated with easy bruising, bleeding, leukemia, or kidney dysfunction)\n",
    "8. **Sex**: woman or man (binary)\n",
    "    - 0 for females and 1 for males\n",
    "9. **Serum creatinine**: level of serum creatinine in the blood (mg/dL)\n",
    "    - Serum creatinine is produced when muscle breaks down. It is normally excreted out of the body by the kidneys.\n",
    "    - Physicians look at serum creatinine levels to determine if the kidney function is normal.\n",
    "10. **Serum sodium**: level of serum sodium in the blood (mEq/L)\n",
    "    - Muscles and nerves need sodium to function.\n",
    "    - Normal levels = 135 and 145 milliequivalents per liter (mEq/L).\n",
    "    - Low levels = Below 135 milliquivalent per liter (mEq/L)\n",
    "    - Low levels of sodium might indicate heart failure\n",
    "11. **Smoking**: if the patient smokes or not (boolean)\n",
    "12. **Time**: follow-up period (days)\n",
    "    - Follow up time was 4–285 days with an average of 130 days\n",
    "13. **Death event**: if the patient passed away before the end of their follow-up period. (boolean)"
   ]
  },
  {
   "cell_type": "markdown",
   "metadata": {},
   "source": [
    "## 3.3 Methods\n",
    "\n",
    "I will be transforming variables that could be better represented as boolean variables. Since predicting mortality is a classification problem, I will be using logistic regression to build our initial model. Based off the results, I will remove variables that are not statistically significant and re-reun the analysis.<br>\n",
    "\n",
    "I will compare logistic regression to other machine learning algorithms that are commonly used for classification and evaluate which one has the best performance.\n",
    "\n",
    "[Back to top](#Table-of-contents)"
   ]
  },
  {
   "cell_type": "markdown",
   "metadata": {},
   "source": [
    "## 3.4 Analysis \n",
    "\n",
    "[Back to top](#Table-of-contents)"
   ]
  },
  {
   "cell_type": "markdown",
   "metadata": {},
   "source": [
    "### Importing our initial libraries"
   ]
  },
  {
   "cell_type": "markdown",
   "metadata": {},
   "source": [
    "- numpy is a library that makes it easier for us to work with arrays and mathematical functions. It is commonly aliased as np.\n",
    "- pandas is a library that is built on numpy and is used for data analysis and manipulation. It is commonly aliased as pd.\n",
    "- matplotlib.pyplot is a library that provides a MATLAB-like way of plotting data. It is commonly aliased as plt.\n",
    "- seaborn is built on matplotlib and integrates closely with pandas. Its statiscal plots are visually appealing and require less customization than matplotlib. It is commonly aliased as sn.\n",
    "- warnings is a library that we will import so that we can ignore warning messages that may appear in our code."
   ]
  },
  {
   "cell_type": "code",
   "execution_count": 1,
   "metadata": {},
   "outputs": [],
   "source": [
    "import numpy as np\n",
    "import pandas as pd\n",
    "import matplotlib.pyplot as plt\n",
    "import seaborn as sns\n",
    "import warnings\n",
    "warnings.filterwarnings('ignore')"
   ]
  },
  {
   "cell_type": "markdown",
   "metadata": {},
   "source": [
    "### Importing the Dataset"
   ]
  },
  {
   "cell_type": "markdown",
   "metadata": {},
   "source": [
    "The heart failure clinical records dataset is taken from the UCI Machine Learning Repository and can be found [here](https://archive.ics.uci.edu/ml/datasets/Heart+failure+clinical+records).\n",
    "The UCI Machine Learning Repository is a collection of publically available datasets. It was created by University of California, Irvine graduate students in 1987 but has since been used by the machine learning community at large for the analysis of machine learning algorithms.\n",
    "\n",
    "To read in the data, I am using the read_csv function from pandas to import the data as a dataframe with the name df.<br>\n",
    "Then, I am using the dataframe's head method to see the first 5 rows of the data and get a sense of what it "
   ]
  },
  {
   "cell_type": "code",
   "execution_count": 2,
   "metadata": {},
   "outputs": [
    {
     "data": {
      "text/html": [
       "<div>\n",
       "<style scoped>\n",
       "    .dataframe tbody tr th:only-of-type {\n",
       "        vertical-align: middle;\n",
       "    }\n",
       "\n",
       "    .dataframe tbody tr th {\n",
       "        vertical-align: top;\n",
       "    }\n",
       "\n",
       "    .dataframe thead th {\n",
       "        text-align: right;\n",
       "    }\n",
       "</style>\n",
       "<table border=\"1\" class=\"dataframe\">\n",
       "  <thead>\n",
       "    <tr style=\"text-align: right;\">\n",
       "      <th></th>\n",
       "      <th>age</th>\n",
       "      <th>anaemia</th>\n",
       "      <th>creatinine_phosphokinase</th>\n",
       "      <th>diabetes</th>\n",
       "      <th>ejection_fraction</th>\n",
       "      <th>high_blood_pressure</th>\n",
       "      <th>platelets</th>\n",
       "      <th>serum_creatinine</th>\n",
       "      <th>serum_sodium</th>\n",
       "      <th>sex</th>\n",
       "      <th>smoking</th>\n",
       "      <th>time</th>\n",
       "      <th>DEATH_EVENT</th>\n",
       "    </tr>\n",
       "  </thead>\n",
       "  <tbody>\n",
       "    <tr>\n",
       "      <th>0</th>\n",
       "      <td>75.0</td>\n",
       "      <td>0</td>\n",
       "      <td>582</td>\n",
       "      <td>0</td>\n",
       "      <td>20</td>\n",
       "      <td>1</td>\n",
       "      <td>265000.00</td>\n",
       "      <td>1.9</td>\n",
       "      <td>130</td>\n",
       "      <td>1</td>\n",
       "      <td>0</td>\n",
       "      <td>4</td>\n",
       "      <td>1</td>\n",
       "    </tr>\n",
       "    <tr>\n",
       "      <th>1</th>\n",
       "      <td>55.0</td>\n",
       "      <td>0</td>\n",
       "      <td>7861</td>\n",
       "      <td>0</td>\n",
       "      <td>38</td>\n",
       "      <td>0</td>\n",
       "      <td>263358.03</td>\n",
       "      <td>1.1</td>\n",
       "      <td>136</td>\n",
       "      <td>1</td>\n",
       "      <td>0</td>\n",
       "      <td>6</td>\n",
       "      <td>1</td>\n",
       "    </tr>\n",
       "    <tr>\n",
       "      <th>2</th>\n",
       "      <td>65.0</td>\n",
       "      <td>0</td>\n",
       "      <td>146</td>\n",
       "      <td>0</td>\n",
       "      <td>20</td>\n",
       "      <td>0</td>\n",
       "      <td>162000.00</td>\n",
       "      <td>1.3</td>\n",
       "      <td>129</td>\n",
       "      <td>1</td>\n",
       "      <td>1</td>\n",
       "      <td>7</td>\n",
       "      <td>1</td>\n",
       "    </tr>\n",
       "    <tr>\n",
       "      <th>3</th>\n",
       "      <td>50.0</td>\n",
       "      <td>1</td>\n",
       "      <td>111</td>\n",
       "      <td>0</td>\n",
       "      <td>20</td>\n",
       "      <td>0</td>\n",
       "      <td>210000.00</td>\n",
       "      <td>1.9</td>\n",
       "      <td>137</td>\n",
       "      <td>1</td>\n",
       "      <td>0</td>\n",
       "      <td>7</td>\n",
       "      <td>1</td>\n",
       "    </tr>\n",
       "    <tr>\n",
       "      <th>4</th>\n",
       "      <td>65.0</td>\n",
       "      <td>1</td>\n",
       "      <td>160</td>\n",
       "      <td>1</td>\n",
       "      <td>20</td>\n",
       "      <td>0</td>\n",
       "      <td>327000.00</td>\n",
       "      <td>2.7</td>\n",
       "      <td>116</td>\n",
       "      <td>0</td>\n",
       "      <td>0</td>\n",
       "      <td>8</td>\n",
       "      <td>1</td>\n",
       "    </tr>\n",
       "  </tbody>\n",
       "</table>\n",
       "</div>"
      ],
      "text/plain": [
       "    age  anaemia  creatinine_phosphokinase  diabetes  ejection_fraction  \\\n",
       "0  75.0        0                       582         0                 20   \n",
       "1  55.0        0                      7861         0                 38   \n",
       "2  65.0        0                       146         0                 20   \n",
       "3  50.0        1                       111         0                 20   \n",
       "4  65.0        1                       160         1                 20   \n",
       "\n",
       "   high_blood_pressure  platelets  serum_creatinine  serum_sodium  sex  \\\n",
       "0                    1  265000.00               1.9           130    1   \n",
       "1                    0  263358.03               1.1           136    1   \n",
       "2                    0  162000.00               1.3           129    1   \n",
       "3                    0  210000.00               1.9           137    1   \n",
       "4                    0  327000.00               2.7           116    0   \n",
       "\n",
       "   smoking  time  DEATH_EVENT  \n",
       "0        0     4            1  \n",
       "1        0     6            1  \n",
       "2        1     7            1  \n",
       "3        0     7            1  \n",
       "4        0     8            1  "
      ]
     },
     "execution_count": 2,
     "metadata": {},
     "output_type": "execute_result"
    }
   ],
   "source": [
    "df = pd.read_csv(\"heart_failure_clinical_records_dataset.csv\")\n",
    "df.head()"
   ]
  },
  {
   "cell_type": "markdown",
   "metadata": {},
   "source": [
    "### Exploratory Data Analysis"
   ]
  },
  {
   "cell_type": "markdown",
   "metadata": {},
   "source": [
    "The shape attribute will give us the number of records and variables in a tuple format."
   ]
  },
  {
   "cell_type": "code",
   "execution_count": 3,
   "metadata": {},
   "outputs": [
    {
     "data": {
      "text/plain": [
       "(299, 13)"
      ]
     },
     "execution_count": 3,
     "metadata": {},
     "output_type": "execute_result"
    }
   ],
   "source": [
    "df.shape"
   ]
  },
  {
   "cell_type": "markdown",
   "metadata": {},
   "source": [
    "The info method will give us the varible names, their column index, the number of non-null values, and their data type.<br>\n",
    "I am interested in seeing whether if there any of the variables have null values or if any of the variables should have their data type changed."
   ]
  },
  {
   "cell_type": "code",
   "execution_count": 4,
   "metadata": {},
   "outputs": [
    {
     "name": "stdout",
     "output_type": "stream",
     "text": [
      "<class 'pandas.core.frame.DataFrame'>\n",
      "RangeIndex: 299 entries, 0 to 298\n",
      "Data columns (total 13 columns):\n",
      " #   Column                    Non-Null Count  Dtype  \n",
      "---  ------                    --------------  -----  \n",
      " 0   age                       299 non-null    float64\n",
      " 1   anaemia                   299 non-null    int64  \n",
      " 2   creatinine_phosphokinase  299 non-null    int64  \n",
      " 3   diabetes                  299 non-null    int64  \n",
      " 4   ejection_fraction         299 non-null    int64  \n",
      " 5   high_blood_pressure       299 non-null    int64  \n",
      " 6   platelets                 299 non-null    float64\n",
      " 7   serum_creatinine          299 non-null    float64\n",
      " 8   serum_sodium              299 non-null    int64  \n",
      " 9   sex                       299 non-null    int64  \n",
      " 10  smoking                   299 non-null    int64  \n",
      " 11  time                      299 non-null    int64  \n",
      " 12  DEATH_EVENT               299 non-null    int64  \n",
      "dtypes: float64(3), int64(10)\n",
      "memory usage: 30.5 KB\n"
     ]
    }
   ],
   "source": [
    "df.info()"
   ]
  },
  {
   "cell_type": "markdown",
   "metadata": {},
   "source": [
    "There are no null values for this data set. If there were, I would try to imputate and fill in the missing values rather than eliminate records because we already have a small dataset.<br>\n",
    "All the variables are booleans or numerical. I will not need to change the data type of these variables.<br>\n",
    "However, I might consider transforming some of the floats into booleans or factors in the analysis if it seems like that would improve our model performance or accuracy. "
   ]
  },
  {
   "cell_type": "markdown",
   "metadata": {},
   "source": [
    "The describe method will give us some basic statistical measures of each variable."
   ]
  },
  {
   "cell_type": "code",
   "execution_count": 5,
   "metadata": {},
   "outputs": [
    {
     "data": {
      "text/html": [
       "<div>\n",
       "<style scoped>\n",
       "    .dataframe tbody tr th:only-of-type {\n",
       "        vertical-align: middle;\n",
       "    }\n",
       "\n",
       "    .dataframe tbody tr th {\n",
       "        vertical-align: top;\n",
       "    }\n",
       "\n",
       "    .dataframe thead th {\n",
       "        text-align: right;\n",
       "    }\n",
       "</style>\n",
       "<table border=\"1\" class=\"dataframe\">\n",
       "  <thead>\n",
       "    <tr style=\"text-align: right;\">\n",
       "      <th></th>\n",
       "      <th>age</th>\n",
       "      <th>anaemia</th>\n",
       "      <th>creatinine_phosphokinase</th>\n",
       "      <th>diabetes</th>\n",
       "      <th>ejection_fraction</th>\n",
       "      <th>high_blood_pressure</th>\n",
       "      <th>platelets</th>\n",
       "      <th>serum_creatinine</th>\n",
       "      <th>serum_sodium</th>\n",
       "      <th>sex</th>\n",
       "      <th>smoking</th>\n",
       "      <th>time</th>\n",
       "      <th>DEATH_EVENT</th>\n",
       "    </tr>\n",
       "  </thead>\n",
       "  <tbody>\n",
       "    <tr>\n",
       "      <th>count</th>\n",
       "      <td>299.000000</td>\n",
       "      <td>299.000000</td>\n",
       "      <td>299.000000</td>\n",
       "      <td>299.000000</td>\n",
       "      <td>299.000000</td>\n",
       "      <td>299.000000</td>\n",
       "      <td>299.000000</td>\n",
       "      <td>299.00000</td>\n",
       "      <td>299.000000</td>\n",
       "      <td>299.000000</td>\n",
       "      <td>299.00000</td>\n",
       "      <td>299.000000</td>\n",
       "      <td>299.00000</td>\n",
       "    </tr>\n",
       "    <tr>\n",
       "      <th>mean</th>\n",
       "      <td>60.833893</td>\n",
       "      <td>0.431438</td>\n",
       "      <td>581.839465</td>\n",
       "      <td>0.418060</td>\n",
       "      <td>38.083612</td>\n",
       "      <td>0.351171</td>\n",
       "      <td>263358.029264</td>\n",
       "      <td>1.39388</td>\n",
       "      <td>136.625418</td>\n",
       "      <td>0.648829</td>\n",
       "      <td>0.32107</td>\n",
       "      <td>130.260870</td>\n",
       "      <td>0.32107</td>\n",
       "    </tr>\n",
       "    <tr>\n",
       "      <th>std</th>\n",
       "      <td>11.894809</td>\n",
       "      <td>0.496107</td>\n",
       "      <td>970.287881</td>\n",
       "      <td>0.494067</td>\n",
       "      <td>11.834841</td>\n",
       "      <td>0.478136</td>\n",
       "      <td>97804.236869</td>\n",
       "      <td>1.03451</td>\n",
       "      <td>4.412477</td>\n",
       "      <td>0.478136</td>\n",
       "      <td>0.46767</td>\n",
       "      <td>77.614208</td>\n",
       "      <td>0.46767</td>\n",
       "    </tr>\n",
       "    <tr>\n",
       "      <th>min</th>\n",
       "      <td>40.000000</td>\n",
       "      <td>0.000000</td>\n",
       "      <td>23.000000</td>\n",
       "      <td>0.000000</td>\n",
       "      <td>14.000000</td>\n",
       "      <td>0.000000</td>\n",
       "      <td>25100.000000</td>\n",
       "      <td>0.50000</td>\n",
       "      <td>113.000000</td>\n",
       "      <td>0.000000</td>\n",
       "      <td>0.00000</td>\n",
       "      <td>4.000000</td>\n",
       "      <td>0.00000</td>\n",
       "    </tr>\n",
       "    <tr>\n",
       "      <th>25%</th>\n",
       "      <td>51.000000</td>\n",
       "      <td>0.000000</td>\n",
       "      <td>116.500000</td>\n",
       "      <td>0.000000</td>\n",
       "      <td>30.000000</td>\n",
       "      <td>0.000000</td>\n",
       "      <td>212500.000000</td>\n",
       "      <td>0.90000</td>\n",
       "      <td>134.000000</td>\n",
       "      <td>0.000000</td>\n",
       "      <td>0.00000</td>\n",
       "      <td>73.000000</td>\n",
       "      <td>0.00000</td>\n",
       "    </tr>\n",
       "    <tr>\n",
       "      <th>50%</th>\n",
       "      <td>60.000000</td>\n",
       "      <td>0.000000</td>\n",
       "      <td>250.000000</td>\n",
       "      <td>0.000000</td>\n",
       "      <td>38.000000</td>\n",
       "      <td>0.000000</td>\n",
       "      <td>262000.000000</td>\n",
       "      <td>1.10000</td>\n",
       "      <td>137.000000</td>\n",
       "      <td>1.000000</td>\n",
       "      <td>0.00000</td>\n",
       "      <td>115.000000</td>\n",
       "      <td>0.00000</td>\n",
       "    </tr>\n",
       "    <tr>\n",
       "      <th>75%</th>\n",
       "      <td>70.000000</td>\n",
       "      <td>1.000000</td>\n",
       "      <td>582.000000</td>\n",
       "      <td>1.000000</td>\n",
       "      <td>45.000000</td>\n",
       "      <td>1.000000</td>\n",
       "      <td>303500.000000</td>\n",
       "      <td>1.40000</td>\n",
       "      <td>140.000000</td>\n",
       "      <td>1.000000</td>\n",
       "      <td>1.00000</td>\n",
       "      <td>203.000000</td>\n",
       "      <td>1.00000</td>\n",
       "    </tr>\n",
       "    <tr>\n",
       "      <th>max</th>\n",
       "      <td>95.000000</td>\n",
       "      <td>1.000000</td>\n",
       "      <td>7861.000000</td>\n",
       "      <td>1.000000</td>\n",
       "      <td>80.000000</td>\n",
       "      <td>1.000000</td>\n",
       "      <td>850000.000000</td>\n",
       "      <td>9.40000</td>\n",
       "      <td>148.000000</td>\n",
       "      <td>1.000000</td>\n",
       "      <td>1.00000</td>\n",
       "      <td>285.000000</td>\n",
       "      <td>1.00000</td>\n",
       "    </tr>\n",
       "  </tbody>\n",
       "</table>\n",
       "</div>"
      ],
      "text/plain": [
       "              age     anaemia  creatinine_phosphokinase    diabetes  \\\n",
       "count  299.000000  299.000000                299.000000  299.000000   \n",
       "mean    60.833893    0.431438                581.839465    0.418060   \n",
       "std     11.894809    0.496107                970.287881    0.494067   \n",
       "min     40.000000    0.000000                 23.000000    0.000000   \n",
       "25%     51.000000    0.000000                116.500000    0.000000   \n",
       "50%     60.000000    0.000000                250.000000    0.000000   \n",
       "75%     70.000000    1.000000                582.000000    1.000000   \n",
       "max     95.000000    1.000000               7861.000000    1.000000   \n",
       "\n",
       "       ejection_fraction  high_blood_pressure      platelets  \\\n",
       "count         299.000000           299.000000     299.000000   \n",
       "mean           38.083612             0.351171  263358.029264   \n",
       "std            11.834841             0.478136   97804.236869   \n",
       "min            14.000000             0.000000   25100.000000   \n",
       "25%            30.000000             0.000000  212500.000000   \n",
       "50%            38.000000             0.000000  262000.000000   \n",
       "75%            45.000000             1.000000  303500.000000   \n",
       "max            80.000000             1.000000  850000.000000   \n",
       "\n",
       "       serum_creatinine  serum_sodium         sex    smoking        time  \\\n",
       "count         299.00000    299.000000  299.000000  299.00000  299.000000   \n",
       "mean            1.39388    136.625418    0.648829    0.32107  130.260870   \n",
       "std             1.03451      4.412477    0.478136    0.46767   77.614208   \n",
       "min             0.50000    113.000000    0.000000    0.00000    4.000000   \n",
       "25%             0.90000    134.000000    0.000000    0.00000   73.000000   \n",
       "50%             1.10000    137.000000    1.000000    0.00000  115.000000   \n",
       "75%             1.40000    140.000000    1.000000    1.00000  203.000000   \n",
       "max             9.40000    148.000000    1.000000    1.00000  285.000000   \n",
       "\n",
       "       DEATH_EVENT  \n",
       "count    299.00000  \n",
       "mean       0.32107  \n",
       "std        0.46767  \n",
       "min        0.00000  \n",
       "25%        0.00000  \n",
       "50%        0.00000  \n",
       "75%        1.00000  \n",
       "max        1.00000  "
      ]
     },
     "execution_count": 5,
     "metadata": {},
     "output_type": "execute_result"
    }
   ],
   "source": [
    "df.describe()"
   ]
  },
  {
   "cell_type": "markdown",
   "metadata": {},
   "source": [
    "All of our booleans have min and max values of 0 and 1 respectively.<br>\n",
    "Creatinine_phospokinase, ejection_fraction, platelets, serum_creatinine, serum_sodium, and time are numerical ranges.\n",
    "- Creatinine phosphokinase has a very large range in this data set (more than 7000) but the range for normal levels is around 110. From a clinical perspective, we only care about if CPK levels are high and don't need to know the exact value. So I will transform the variable in the next section.\n",
    "- Platelets has a large range and knowing whether that level is high or low might be clinically signifcant. I will transform this variable in the next section.\n",
    "- Serum sodium has relatively narrow range but since we are primarily interested in low sodium values, I will transform this variable in the next section.\n",
    "- Ejection fraction and time will be kept as is, since how low or high the value gets is clinically important\n"
   ]
  },
  {
   "cell_type": "markdown",
   "metadata": {},
   "source": [
    "### Data Transformation"
   ]
  },
  {
   "cell_type": "markdown",
   "metadata": {},
   "source": [
    "For Creatinine phosphokinase, we are only interested if CPK values are high so I will transform this variable into a boolean variable.<br>\n",
    "I am creating a new variable and using a lambda function to appply a condition to the entire field."
   ]
  },
  {
   "cell_type": "code",
   "execution_count": 6,
   "metadata": {},
   "outputs": [
    {
     "data": {
      "text/html": [
       "<div>\n",
       "<style scoped>\n",
       "    .dataframe tbody tr th:only-of-type {\n",
       "        vertical-align: middle;\n",
       "    }\n",
       "\n",
       "    .dataframe tbody tr th {\n",
       "        vertical-align: top;\n",
       "    }\n",
       "\n",
       "    .dataframe thead th {\n",
       "        text-align: right;\n",
       "    }\n",
       "</style>\n",
       "<table border=\"1\" class=\"dataframe\">\n",
       "  <thead>\n",
       "    <tr style=\"text-align: right;\">\n",
       "      <th></th>\n",
       "      <th>age</th>\n",
       "      <th>anaemia</th>\n",
       "      <th>creatinine_phosphokinase</th>\n",
       "      <th>diabetes</th>\n",
       "      <th>ejection_fraction</th>\n",
       "      <th>high_blood_pressure</th>\n",
       "      <th>platelets</th>\n",
       "      <th>serum_creatinine</th>\n",
       "      <th>serum_sodium</th>\n",
       "      <th>sex</th>\n",
       "      <th>smoking</th>\n",
       "      <th>time</th>\n",
       "      <th>DEATH_EVENT</th>\n",
       "      <th>high_cpk</th>\n",
       "    </tr>\n",
       "  </thead>\n",
       "  <tbody>\n",
       "    <tr>\n",
       "      <th>0</th>\n",
       "      <td>75.0</td>\n",
       "      <td>0</td>\n",
       "      <td>582</td>\n",
       "      <td>0</td>\n",
       "      <td>20</td>\n",
       "      <td>1</td>\n",
       "      <td>265000.00</td>\n",
       "      <td>1.9</td>\n",
       "      <td>130</td>\n",
       "      <td>1</td>\n",
       "      <td>0</td>\n",
       "      <td>4</td>\n",
       "      <td>1</td>\n",
       "      <td>1</td>\n",
       "    </tr>\n",
       "    <tr>\n",
       "      <th>1</th>\n",
       "      <td>55.0</td>\n",
       "      <td>0</td>\n",
       "      <td>7861</td>\n",
       "      <td>0</td>\n",
       "      <td>38</td>\n",
       "      <td>0</td>\n",
       "      <td>263358.03</td>\n",
       "      <td>1.1</td>\n",
       "      <td>136</td>\n",
       "      <td>1</td>\n",
       "      <td>0</td>\n",
       "      <td>6</td>\n",
       "      <td>1</td>\n",
       "      <td>1</td>\n",
       "    </tr>\n",
       "    <tr>\n",
       "      <th>2</th>\n",
       "      <td>65.0</td>\n",
       "      <td>0</td>\n",
       "      <td>146</td>\n",
       "      <td>0</td>\n",
       "      <td>20</td>\n",
       "      <td>0</td>\n",
       "      <td>162000.00</td>\n",
       "      <td>1.3</td>\n",
       "      <td>129</td>\n",
       "      <td>1</td>\n",
       "      <td>1</td>\n",
       "      <td>7</td>\n",
       "      <td>1</td>\n",
       "      <td>1</td>\n",
       "    </tr>\n",
       "    <tr>\n",
       "      <th>3</th>\n",
       "      <td>50.0</td>\n",
       "      <td>1</td>\n",
       "      <td>111</td>\n",
       "      <td>0</td>\n",
       "      <td>20</td>\n",
       "      <td>0</td>\n",
       "      <td>210000.00</td>\n",
       "      <td>1.9</td>\n",
       "      <td>137</td>\n",
       "      <td>1</td>\n",
       "      <td>0</td>\n",
       "      <td>7</td>\n",
       "      <td>1</td>\n",
       "      <td>0</td>\n",
       "    </tr>\n",
       "    <tr>\n",
       "      <th>4</th>\n",
       "      <td>65.0</td>\n",
       "      <td>1</td>\n",
       "      <td>160</td>\n",
       "      <td>1</td>\n",
       "      <td>20</td>\n",
       "      <td>0</td>\n",
       "      <td>327000.00</td>\n",
       "      <td>2.7</td>\n",
       "      <td>116</td>\n",
       "      <td>0</td>\n",
       "      <td>0</td>\n",
       "      <td>8</td>\n",
       "      <td>1</td>\n",
       "      <td>1</td>\n",
       "    </tr>\n",
       "  </tbody>\n",
       "</table>\n",
       "</div>"
      ],
      "text/plain": [
       "    age  anaemia  creatinine_phosphokinase  diabetes  ejection_fraction  \\\n",
       "0  75.0        0                       582         0                 20   \n",
       "1  55.0        0                      7861         0                 38   \n",
       "2  65.0        0                       146         0                 20   \n",
       "3  50.0        1                       111         0                 20   \n",
       "4  65.0        1                       160         1                 20   \n",
       "\n",
       "   high_blood_pressure  platelets  serum_creatinine  serum_sodium  sex  \\\n",
       "0                    1  265000.00               1.9           130    1   \n",
       "1                    0  263358.03               1.1           136    1   \n",
       "2                    0  162000.00               1.3           129    1   \n",
       "3                    0  210000.00               1.9           137    1   \n",
       "4                    0  327000.00               2.7           116    0   \n",
       "\n",
       "   smoking  time  DEATH_EVENT  high_cpk  \n",
       "0        0     4            1         1  \n",
       "1        0     6            1         1  \n",
       "2        1     7            1         1  \n",
       "3        0     7            1         0  \n",
       "4        0     8            1         1  "
      ]
     },
     "execution_count": 6,
     "metadata": {},
     "output_type": "execute_result"
    }
   ],
   "source": [
    "df['high_cpk'] = df['creatinine_phosphokinase'].apply(lambda x: 1 if x > 120 else 0)\n",
    "df.head()"
   ]
  },
  {
   "cell_type": "markdown",
   "metadata": {},
   "source": [
    "For platelets, I think there might be interest if levels are low or high. I want to examine these separately so I will create two new booleans rather than a factor variable."
   ]
  },
  {
   "cell_type": "code",
   "execution_count": 7,
   "metadata": {},
   "outputs": [
    {
     "data": {
      "text/html": [
       "<div>\n",
       "<style scoped>\n",
       "    .dataframe tbody tr th:only-of-type {\n",
       "        vertical-align: middle;\n",
       "    }\n",
       "\n",
       "    .dataframe tbody tr th {\n",
       "        vertical-align: top;\n",
       "    }\n",
       "\n",
       "    .dataframe thead th {\n",
       "        text-align: right;\n",
       "    }\n",
       "</style>\n",
       "<table border=\"1\" class=\"dataframe\">\n",
       "  <thead>\n",
       "    <tr style=\"text-align: right;\">\n",
       "      <th></th>\n",
       "      <th>age</th>\n",
       "      <th>anaemia</th>\n",
       "      <th>creatinine_phosphokinase</th>\n",
       "      <th>diabetes</th>\n",
       "      <th>ejection_fraction</th>\n",
       "      <th>high_blood_pressure</th>\n",
       "      <th>platelets</th>\n",
       "      <th>serum_creatinine</th>\n",
       "      <th>serum_sodium</th>\n",
       "      <th>sex</th>\n",
       "      <th>smoking</th>\n",
       "      <th>time</th>\n",
       "      <th>DEATH_EVENT</th>\n",
       "      <th>high_cpk</th>\n",
       "      <th>high_plt</th>\n",
       "      <th>low_plt</th>\n",
       "    </tr>\n",
       "  </thead>\n",
       "  <tbody>\n",
       "    <tr>\n",
       "      <th>0</th>\n",
       "      <td>75.0</td>\n",
       "      <td>0</td>\n",
       "      <td>582</td>\n",
       "      <td>0</td>\n",
       "      <td>20</td>\n",
       "      <td>1</td>\n",
       "      <td>265000.00</td>\n",
       "      <td>1.9</td>\n",
       "      <td>130</td>\n",
       "      <td>1</td>\n",
       "      <td>0</td>\n",
       "      <td>4</td>\n",
       "      <td>1</td>\n",
       "      <td>1</td>\n",
       "      <td>0</td>\n",
       "      <td>0</td>\n",
       "    </tr>\n",
       "    <tr>\n",
       "      <th>1</th>\n",
       "      <td>55.0</td>\n",
       "      <td>0</td>\n",
       "      <td>7861</td>\n",
       "      <td>0</td>\n",
       "      <td>38</td>\n",
       "      <td>0</td>\n",
       "      <td>263358.03</td>\n",
       "      <td>1.1</td>\n",
       "      <td>136</td>\n",
       "      <td>1</td>\n",
       "      <td>0</td>\n",
       "      <td>6</td>\n",
       "      <td>1</td>\n",
       "      <td>1</td>\n",
       "      <td>0</td>\n",
       "      <td>0</td>\n",
       "    </tr>\n",
       "    <tr>\n",
       "      <th>2</th>\n",
       "      <td>65.0</td>\n",
       "      <td>0</td>\n",
       "      <td>146</td>\n",
       "      <td>0</td>\n",
       "      <td>20</td>\n",
       "      <td>0</td>\n",
       "      <td>162000.00</td>\n",
       "      <td>1.3</td>\n",
       "      <td>129</td>\n",
       "      <td>1</td>\n",
       "      <td>1</td>\n",
       "      <td>7</td>\n",
       "      <td>1</td>\n",
       "      <td>1</td>\n",
       "      <td>0</td>\n",
       "      <td>0</td>\n",
       "    </tr>\n",
       "    <tr>\n",
       "      <th>3</th>\n",
       "      <td>50.0</td>\n",
       "      <td>1</td>\n",
       "      <td>111</td>\n",
       "      <td>0</td>\n",
       "      <td>20</td>\n",
       "      <td>0</td>\n",
       "      <td>210000.00</td>\n",
       "      <td>1.9</td>\n",
       "      <td>137</td>\n",
       "      <td>1</td>\n",
       "      <td>0</td>\n",
       "      <td>7</td>\n",
       "      <td>1</td>\n",
       "      <td>0</td>\n",
       "      <td>0</td>\n",
       "      <td>0</td>\n",
       "    </tr>\n",
       "    <tr>\n",
       "      <th>4</th>\n",
       "      <td>65.0</td>\n",
       "      <td>1</td>\n",
       "      <td>160</td>\n",
       "      <td>1</td>\n",
       "      <td>20</td>\n",
       "      <td>0</td>\n",
       "      <td>327000.00</td>\n",
       "      <td>2.7</td>\n",
       "      <td>116</td>\n",
       "      <td>0</td>\n",
       "      <td>0</td>\n",
       "      <td>8</td>\n",
       "      <td>1</td>\n",
       "      <td>1</td>\n",
       "      <td>0</td>\n",
       "      <td>0</td>\n",
       "    </tr>\n",
       "    <tr>\n",
       "      <th>5</th>\n",
       "      <td>90.0</td>\n",
       "      <td>1</td>\n",
       "      <td>47</td>\n",
       "      <td>0</td>\n",
       "      <td>40</td>\n",
       "      <td>1</td>\n",
       "      <td>204000.00</td>\n",
       "      <td>2.1</td>\n",
       "      <td>132</td>\n",
       "      <td>1</td>\n",
       "      <td>1</td>\n",
       "      <td>8</td>\n",
       "      <td>1</td>\n",
       "      <td>0</td>\n",
       "      <td>0</td>\n",
       "      <td>0</td>\n",
       "    </tr>\n",
       "    <tr>\n",
       "      <th>6</th>\n",
       "      <td>75.0</td>\n",
       "      <td>1</td>\n",
       "      <td>246</td>\n",
       "      <td>0</td>\n",
       "      <td>15</td>\n",
       "      <td>0</td>\n",
       "      <td>127000.00</td>\n",
       "      <td>1.2</td>\n",
       "      <td>137</td>\n",
       "      <td>1</td>\n",
       "      <td>0</td>\n",
       "      <td>10</td>\n",
       "      <td>1</td>\n",
       "      <td>1</td>\n",
       "      <td>0</td>\n",
       "      <td>1</td>\n",
       "    </tr>\n",
       "    <tr>\n",
       "      <th>7</th>\n",
       "      <td>60.0</td>\n",
       "      <td>1</td>\n",
       "      <td>315</td>\n",
       "      <td>1</td>\n",
       "      <td>60</td>\n",
       "      <td>0</td>\n",
       "      <td>454000.00</td>\n",
       "      <td>1.1</td>\n",
       "      <td>131</td>\n",
       "      <td>1</td>\n",
       "      <td>1</td>\n",
       "      <td>10</td>\n",
       "      <td>1</td>\n",
       "      <td>1</td>\n",
       "      <td>1</td>\n",
       "      <td>0</td>\n",
       "    </tr>\n",
       "    <tr>\n",
       "      <th>8</th>\n",
       "      <td>65.0</td>\n",
       "      <td>0</td>\n",
       "      <td>157</td>\n",
       "      <td>0</td>\n",
       "      <td>65</td>\n",
       "      <td>0</td>\n",
       "      <td>263358.03</td>\n",
       "      <td>1.5</td>\n",
       "      <td>138</td>\n",
       "      <td>0</td>\n",
       "      <td>0</td>\n",
       "      <td>10</td>\n",
       "      <td>1</td>\n",
       "      <td>1</td>\n",
       "      <td>0</td>\n",
       "      <td>0</td>\n",
       "    </tr>\n",
       "    <tr>\n",
       "      <th>9</th>\n",
       "      <td>80.0</td>\n",
       "      <td>1</td>\n",
       "      <td>123</td>\n",
       "      <td>0</td>\n",
       "      <td>35</td>\n",
       "      <td>1</td>\n",
       "      <td>388000.00</td>\n",
       "      <td>9.4</td>\n",
       "      <td>133</td>\n",
       "      <td>1</td>\n",
       "      <td>1</td>\n",
       "      <td>10</td>\n",
       "      <td>1</td>\n",
       "      <td>1</td>\n",
       "      <td>0</td>\n",
       "      <td>0</td>\n",
       "    </tr>\n",
       "  </tbody>\n",
       "</table>\n",
       "</div>"
      ],
      "text/plain": [
       "    age  anaemia  creatinine_phosphokinase  diabetes  ejection_fraction  \\\n",
       "0  75.0        0                       582         0                 20   \n",
       "1  55.0        0                      7861         0                 38   \n",
       "2  65.0        0                       146         0                 20   \n",
       "3  50.0        1                       111         0                 20   \n",
       "4  65.0        1                       160         1                 20   \n",
       "5  90.0        1                        47         0                 40   \n",
       "6  75.0        1                       246         0                 15   \n",
       "7  60.0        1                       315         1                 60   \n",
       "8  65.0        0                       157         0                 65   \n",
       "9  80.0        1                       123         0                 35   \n",
       "\n",
       "   high_blood_pressure  platelets  serum_creatinine  serum_sodium  sex  \\\n",
       "0                    1  265000.00               1.9           130    1   \n",
       "1                    0  263358.03               1.1           136    1   \n",
       "2                    0  162000.00               1.3           129    1   \n",
       "3                    0  210000.00               1.9           137    1   \n",
       "4                    0  327000.00               2.7           116    0   \n",
       "5                    1  204000.00               2.1           132    1   \n",
       "6                    0  127000.00               1.2           137    1   \n",
       "7                    0  454000.00               1.1           131    1   \n",
       "8                    0  263358.03               1.5           138    0   \n",
       "9                    1  388000.00               9.4           133    1   \n",
       "\n",
       "   smoking  time  DEATH_EVENT  high_cpk  high_plt  low_plt  \n",
       "0        0     4            1         1         0        0  \n",
       "1        0     6            1         1         0        0  \n",
       "2        1     7            1         1         0        0  \n",
       "3        0     7            1         0         0        0  \n",
       "4        0     8            1         1         0        0  \n",
       "5        1     8            1         0         0        0  \n",
       "6        0    10            1         1         0        1  \n",
       "7        1    10            1         1         1        0  \n",
       "8        0    10            1         1         0        0  \n",
       "9        1    10            1         1         0        0  "
      ]
     },
     "execution_count": 7,
     "metadata": {},
     "output_type": "execute_result"
    }
   ],
   "source": [
    "df['high_plt'] = df['platelets'].apply(lambda x: 1 if x > 450000 else 0)\n",
    "df['low_plt'] = df['platelets'].apply(lambda x: 1 if x < 150000 else 0)\n",
    "df.head(10) # used ten instead of five to see if both booleans were created correctly"
   ]
  },
  {
   "cell_type": "markdown",
   "metadata": {},
   "source": [
    "For serum sodium, I will changed this variable into a boolean to indicate if levels are too low."
   ]
  },
  {
   "cell_type": "code",
   "execution_count": 8,
   "metadata": {},
   "outputs": [],
   "source": [
    "df['low_sodium'] = df['serum_sodium'].apply(lambda x: 1 if x < 135 else 0)"
   ]
  },
  {
   "cell_type": "markdown",
   "metadata": {},
   "source": [
    "Finally, I will drop creatinine_phosphokinase, platelets, and serum_sodium from the dataset."
   ]
  },
  {
   "cell_type": "code",
   "execution_count": 9,
   "metadata": {},
   "outputs": [],
   "source": [
    "df.drop(['creatinine_phosphokinase', 'platelets', 'serum_sodium'], axis = 1, inplace = True)"
   ]
  },
  {
   "cell_type": "markdown",
   "metadata": {},
   "source": [
    "### Visualizing Data Trends"
   ]
  },
  {
   "cell_type": "markdown",
   "metadata": {},
   "source": [
    "Heart failure is seen at similar prevalence rates among men and women. <br>\n",
    "Using countplot from the seaborn library, I wanted to see if mortality was skewed by gender among the patients in our dataset.<br>\n",
    "While there are more males in this dataset, there does not be a significant difference in the prevalence of mortality by sex."
   ]
  },
  {
   "cell_type": "code",
   "execution_count": 10,
   "metadata": {},
   "outputs": [
    {
     "data": {
      "image/png": "[encoded data removed]",
      "text/plain": [
       "<Figure size 432x288 with 1 Axes>"
      ]
     },
     "metadata": {
      "needs_background": "light"
     },
     "output_type": "display_data"
    }
   ],
   "source": [
    "sns.countplot('sex', hue='DEATH_EVENT', data = df)\n",
    "plt.show()"
   ]
  },
  {
   "cell_type": "markdown",
   "metadata": {},
   "source": [
    "Using histplot from seaborn, I wanted to see if there was a pattern with time in regards to mortality.\n",
    "It seems that the majority of mortalities will occur early in the follow-up period and will wane further into the follow-up period."
   ]
  },
  {
   "cell_type": "code",
   "execution_count": 11,
   "metadata": {},
   "outputs": [
    {
     "data": {
      "image/png": "[encoded data removed]",
      "text/plain": [
       "<Figure size 432x288 with 1 Axes>"
      ]
     },
     "metadata": {
      "needs_background": "light"
     },
     "output_type": "display_data"
    }
   ],
   "source": [
    "sns.histplot(data = df, x = 'time', bins = 15,  hue='DEATH_EVENT', multiple = 'stack')\n",
    "plt.show()"
   ]
  },
  {
   "cell_type": "markdown",
   "metadata": {},
   "source": [
    "We will use a heatmap to visualize a correlation matrix of all of our variables.\n",
    "However, I want DEATH_EVENT to be the last row and column so I will pop that field off and reinsert it."
   ]
  },
  {
   "cell_type": "code",
   "execution_count": 12,
   "metadata": {},
   "outputs": [],
   "source": [
    "death = df.pop('DEATH_EVENT')"
   ]
  },
  {
   "cell_type": "code",
   "execution_count": 13,
   "metadata": {},
   "outputs": [],
   "source": [
    "df['death'] = death"
   ]
  },
  {
   "cell_type": "markdown",
   "metadata": {},
   "source": [
    "I will also rename the sex field to \"male\" make its understanding more intuitive."
   ]
  },
  {
   "cell_type": "code",
   "execution_count": 14,
   "metadata": {},
   "outputs": [
    {
     "data": {
      "text/html": [
       "<div>\n",
       "<style scoped>\n",
       "    .dataframe tbody tr th:only-of-type {\n",
       "        vertical-align: middle;\n",
       "    }\n",
       "\n",
       "    .dataframe tbody tr th {\n",
       "        vertical-align: top;\n",
       "    }\n",
       "\n",
       "    .dataframe thead th {\n",
       "        text-align: right;\n",
       "    }\n",
       "</style>\n",
       "<table border=\"1\" class=\"dataframe\">\n",
       "  <thead>\n",
       "    <tr style=\"text-align: right;\">\n",
       "      <th></th>\n",
       "      <th>age</th>\n",
       "      <th>anaemia</th>\n",
       "      <th>diabetes</th>\n",
       "      <th>ejection_fraction</th>\n",
       "      <th>high_blood_pressure</th>\n",
       "      <th>serum_creatinine</th>\n",
       "      <th>male</th>\n",
       "      <th>smoking</th>\n",
       "      <th>time</th>\n",
       "      <th>high_cpk</th>\n",
       "      <th>high_plt</th>\n",
       "      <th>low_plt</th>\n",
       "      <th>low_sodium</th>\n",
       "      <th>death</th>\n",
       "    </tr>\n",
       "  </thead>\n",
       "  <tbody>\n",
       "    <tr>\n",
       "      <th>0</th>\n",
       "      <td>75.0</td>\n",
       "      <td>0</td>\n",
       "      <td>0</td>\n",
       "      <td>20</td>\n",
       "      <td>1</td>\n",
       "      <td>1.9</td>\n",
       "      <td>1</td>\n",
       "      <td>0</td>\n",
       "      <td>4</td>\n",
       "      <td>1</td>\n",
       "      <td>0</td>\n",
       "      <td>0</td>\n",
       "      <td>1</td>\n",
       "      <td>1</td>\n",
       "    </tr>\n",
       "    <tr>\n",
       "      <th>1</th>\n",
       "      <td>55.0</td>\n",
       "      <td>0</td>\n",
       "      <td>0</td>\n",
       "      <td>38</td>\n",
       "      <td>0</td>\n",
       "      <td>1.1</td>\n",
       "      <td>1</td>\n",
       "      <td>0</td>\n",
       "      <td>6</td>\n",
       "      <td>1</td>\n",
       "      <td>0</td>\n",
       "      <td>0</td>\n",
       "      <td>0</td>\n",
       "      <td>1</td>\n",
       "    </tr>\n",
       "    <tr>\n",
       "      <th>2</th>\n",
       "      <td>65.0</td>\n",
       "      <td>0</td>\n",
       "      <td>0</td>\n",
       "      <td>20</td>\n",
       "      <td>0</td>\n",
       "      <td>1.3</td>\n",
       "      <td>1</td>\n",
       "      <td>1</td>\n",
       "      <td>7</td>\n",
       "      <td>1</td>\n",
       "      <td>0</td>\n",
       "      <td>0</td>\n",
       "      <td>1</td>\n",
       "      <td>1</td>\n",
       "    </tr>\n",
       "    <tr>\n",
       "      <th>3</th>\n",
       "      <td>50.0</td>\n",
       "      <td>1</td>\n",
       "      <td>0</td>\n",
       "      <td>20</td>\n",
       "      <td>0</td>\n",
       "      <td>1.9</td>\n",
       "      <td>1</td>\n",
       "      <td>0</td>\n",
       "      <td>7</td>\n",
       "      <td>0</td>\n",
       "      <td>0</td>\n",
       "      <td>0</td>\n",
       "      <td>0</td>\n",
       "      <td>1</td>\n",
       "    </tr>\n",
       "    <tr>\n",
       "      <th>4</th>\n",
       "      <td>65.0</td>\n",
       "      <td>1</td>\n",
       "      <td>1</td>\n",
       "      <td>20</td>\n",
       "      <td>0</td>\n",
       "      <td>2.7</td>\n",
       "      <td>0</td>\n",
       "      <td>0</td>\n",
       "      <td>8</td>\n",
       "      <td>1</td>\n",
       "      <td>0</td>\n",
       "      <td>0</td>\n",
       "      <td>1</td>\n",
       "      <td>1</td>\n",
       "    </tr>\n",
       "    <tr>\n",
       "      <th>...</th>\n",
       "      <td>...</td>\n",
       "      <td>...</td>\n",
       "      <td>...</td>\n",
       "      <td>...</td>\n",
       "      <td>...</td>\n",
       "      <td>...</td>\n",
       "      <td>...</td>\n",
       "      <td>...</td>\n",
       "      <td>...</td>\n",
       "      <td>...</td>\n",
       "      <td>...</td>\n",
       "      <td>...</td>\n",
       "      <td>...</td>\n",
       "      <td>...</td>\n",
       "    </tr>\n",
       "    <tr>\n",
       "      <th>294</th>\n",
       "      <td>62.0</td>\n",
       "      <td>0</td>\n",
       "      <td>1</td>\n",
       "      <td>38</td>\n",
       "      <td>1</td>\n",
       "      <td>1.1</td>\n",
       "      <td>1</td>\n",
       "      <td>1</td>\n",
       "      <td>270</td>\n",
       "      <td>0</td>\n",
       "      <td>0</td>\n",
       "      <td>0</td>\n",
       "      <td>0</td>\n",
       "      <td>0</td>\n",
       "    </tr>\n",
       "    <tr>\n",
       "      <th>295</th>\n",
       "      <td>55.0</td>\n",
       "      <td>0</td>\n",
       "      <td>0</td>\n",
       "      <td>38</td>\n",
       "      <td>0</td>\n",
       "      <td>1.2</td>\n",
       "      <td>0</td>\n",
       "      <td>0</td>\n",
       "      <td>271</td>\n",
       "      <td>1</td>\n",
       "      <td>0</td>\n",
       "      <td>0</td>\n",
       "      <td>0</td>\n",
       "      <td>0</td>\n",
       "    </tr>\n",
       "    <tr>\n",
       "      <th>296</th>\n",
       "      <td>45.0</td>\n",
       "      <td>0</td>\n",
       "      <td>1</td>\n",
       "      <td>60</td>\n",
       "      <td>0</td>\n",
       "      <td>0.8</td>\n",
       "      <td>0</td>\n",
       "      <td>0</td>\n",
       "      <td>278</td>\n",
       "      <td>1</td>\n",
       "      <td>1</td>\n",
       "      <td>0</td>\n",
       "      <td>0</td>\n",
       "      <td>0</td>\n",
       "    </tr>\n",
       "    <tr>\n",
       "      <th>297</th>\n",
       "      <td>45.0</td>\n",
       "      <td>0</td>\n",
       "      <td>0</td>\n",
       "      <td>38</td>\n",
       "      <td>0</td>\n",
       "      <td>1.4</td>\n",
       "      <td>1</td>\n",
       "      <td>1</td>\n",
       "      <td>280</td>\n",
       "      <td>1</td>\n",
       "      <td>0</td>\n",
       "      <td>1</td>\n",
       "      <td>0</td>\n",
       "      <td>0</td>\n",
       "    </tr>\n",
       "    <tr>\n",
       "      <th>298</th>\n",
       "      <td>50.0</td>\n",
       "      <td>0</td>\n",
       "      <td>0</td>\n",
       "      <td>45</td>\n",
       "      <td>0</td>\n",
       "      <td>1.6</td>\n",
       "      <td>1</td>\n",
       "      <td>1</td>\n",
       "      <td>285</td>\n",
       "      <td>1</td>\n",
       "      <td>0</td>\n",
       "      <td>0</td>\n",
       "      <td>0</td>\n",
       "      <td>0</td>\n",
       "    </tr>\n",
       "  </tbody>\n",
       "</table>\n",
       "<p>299 rows × 14 columns</p>\n",
       "</div>"
      ],
      "text/plain": [
       "      age  anaemia  diabetes  ejection_fraction  high_blood_pressure  \\\n",
       "0    75.0        0         0                 20                    1   \n",
       "1    55.0        0         0                 38                    0   \n",
       "2    65.0        0         0                 20                    0   \n",
       "3    50.0        1         0                 20                    0   \n",
       "4    65.0        1         1                 20                    0   \n",
       "..    ...      ...       ...                ...                  ...   \n",
       "294  62.0        0         1                 38                    1   \n",
       "295  55.0        0         0                 38                    0   \n",
       "296  45.0        0         1                 60                    0   \n",
       "297  45.0        0         0                 38                    0   \n",
       "298  50.0        0         0                 45                    0   \n",
       "\n",
       "     serum_creatinine  male  smoking  time  high_cpk  high_plt  low_plt  \\\n",
       "0                 1.9     1        0     4         1         0        0   \n",
       "1                 1.1     1        0     6         1         0        0   \n",
       "2                 1.3     1        1     7         1         0        0   \n",
       "3                 1.9     1        0     7         0         0        0   \n",
       "4                 2.7     0        0     8         1         0        0   \n",
       "..                ...   ...      ...   ...       ...       ...      ...   \n",
       "294               1.1     1        1   270         0         0        0   \n",
       "295               1.2     0        0   271         1         0        0   \n",
       "296               0.8     0        0   278         1         1        0   \n",
       "297               1.4     1        1   280         1         0        1   \n",
       "298               1.6     1        1   285         1         0        0   \n",
       "\n",
       "     low_sodium  death  \n",
       "0             1      1  \n",
       "1             0      1  \n",
       "2             1      1  \n",
       "3             0      1  \n",
       "4             1      1  \n",
       "..          ...    ...  \n",
       "294           0      0  \n",
       "295           0      0  \n",
       "296           0      0  \n",
       "297           0      0  \n",
       "298           0      0  \n",
       "\n",
       "[299 rows x 14 columns]"
      ]
     },
     "execution_count": 14,
     "metadata": {},
     "output_type": "execute_result"
    }
   ],
   "source": [
    "df.rename(columns={'sex': 'male'})"
   ]
  },
  {
   "cell_type": "markdown",
   "metadata": {},
   "source": [
    "## Correlation Matrix Heatmap"
   ]
  },
  {
   "cell_type": "code",
   "execution_count": 15,
   "metadata": {},
   "outputs": [
    {
     "data": {
      "image/png": "[encoded data removed]",
      "text/plain": [
       "<Figure size 864x864 with 2 Axes>"
      ]
     },
     "metadata": {
      "needs_background": "light"
     },
     "output_type": "display_data"
    }
   ],
   "source": [
    "fig, ax = plt.subplots(figsize=(12,12))\n",
    "sns.heatmap(df.corr(), annot = True, fmt='.2f', annot_kws={'size':14})\n",
    "ax.tick_params(labelsize=14)\n",
    "cbar = ax.collections[0].colorbar\n",
    "cbar.ax.tick_params(labelsize=14)\n",
    "plt.show()"
   ]
  },
  {
   "cell_type": "markdown",
   "metadata": {},
   "source": [
    "From the heatmap of our correlation matrix, we can see that age and serum creatinine are the most positively correlated with mortality.<br>\n",
    "We can also see that time, ejection fraction, low sodium are the most negatively correlated with mortality. \n",
    "\n",
    "Also, interesting to note is that smoking is strongly positively associated with males rather than females."
   ]
  },
  {
   "cell_type": "markdown",
   "metadata": {},
   "source": [
    "## Modeling with Logistic Regression"
   ]
  },
  {
   "cell_type": "markdown",
   "metadata": {},
   "source": [
    "Since our problem is a classification problem, we will begin our analysis with logistic regression and then compare this algorithm to three different algorithms.\n",
    "To being modeling the data, we need to split the features and the target variables."
   ]
  },
  {
   "cell_type": "code",
   "execution_count": 16,
   "metadata": {},
   "outputs": [],
   "source": [
    "y = df['death']\n",
    "X = df.drop(['death'], axis = 1)"
   ]
  },
  {
   "cell_type": "markdown",
   "metadata": {},
   "source": [
    "Statsmodel is a library for model estimation that uses R-style formulas.<br>\n",
    "We will access the logit method within statsmodel.api (aliased as sm) to build our logistic regression model.\n",
    "We will then use the summary method to print out out our regression results."
   ]
  },
  {
   "cell_type": "code",
   "execution_count": 17,
   "metadata": {},
   "outputs": [
    {
     "name": "stdout",
     "output_type": "stream",
     "text": [
      "Optimization terminated successfully.\n",
      "         Current function value: 0.351820\n",
      "         Iterations 7\n",
      "                           Logit Regression Results                           \n",
      "==============================================================================\n",
      "Dep. Variable:                  death   No. Observations:                  299\n",
      "Model:                          Logit   Df Residuals:                      286\n",
      "Method:                           MLE   Df Model:                           12\n",
      "Date:                Tue, 14 Sep 2021   Pseudo R-squ.:                  0.4395\n",
      "Time:                        08:04:25   Log-Likelihood:                -105.19\n",
      "converged:                       True   LL-Null:                       -187.67\n",
      "Covariance Type:            nonrobust   LLR p-value:                 5.113e-29\n",
      "=======================================================================================\n",
      "                          coef    std err          z      P>|z|      [0.025      0.975]\n",
      "---------------------------------------------------------------------------------------\n",
      "age                     0.0431      0.012      3.573      0.000       0.019       0.067\n",
      "anaemia                 0.0091      0.361      0.025      0.980      -0.698       0.716\n",
      "diabetes               -0.0006      0.355     -0.002      0.999      -0.697       0.696\n",
      "ejection_fraction      -0.0773      0.016     -4.745      0.000      -0.109      -0.045\n",
      "high_blood_pressure    -0.0439      0.366     -0.120      0.905      -0.762       0.674\n",
      "serum_creatinine        0.7052      0.184      3.841      0.000       0.345       1.065\n",
      "sex                    -0.5225      0.414     -1.261      0.207      -1.335       0.290\n",
      "smoking                -0.0193      0.435     -0.044      0.965      -0.871       0.833\n",
      "time                   -0.0222      0.003     -7.499      0.000      -0.028      -0.016\n",
      "high_cpk                1.1863      0.429      2.767      0.006       0.346       2.027\n",
      "high_plt                0.7010      0.853      0.822      0.411      -0.970       2.372\n",
      "low_plt                 0.6432      0.625      1.030      0.303      -0.581       1.867\n",
      "low_sodium              0.8656      0.405      2.135      0.033       0.071       1.660\n",
      "=======================================================================================\n"
     ]
    }
   ],
   "source": [
    "import statsmodels.api as sm\n",
    "logit_model=sm.Logit(y,X)\n",
    "result=logit_model.fit()\n",
    "print(result.summary())"
   ]
  },
  {
   "cell_type": "markdown",
   "metadata": {},
   "source": [
    "Of the 13 variables, only 6 variables had p values < 0.05. These variables are statisically significant and will stored in a new data set called X_sig.<br>\n",
    "All of these variables except for high cpk were shown to have strong correlations in the heatmap of our correlation matrix.<br>\n",
    "\n",
    "The 7 variables that had p-values > 0.05 are not statistically significant and will be dropped from the data set.<br>\n"
   ]
  },
  {
   "cell_type": "code",
   "execution_count": 18,
   "metadata": {},
   "outputs": [],
   "source": [
    "X_sig = X.drop(['anaemia', 'diabetes', 'high_blood_pressure', 'sex','smoking', 'high_plt', 'low_plt'], axis = 1)"
   ]
  },
  {
   "cell_type": "markdown",
   "metadata": {},
   "source": [
    "We will rerun our logistic regression with the new dataframe X_sig."
   ]
  },
  {
   "cell_type": "code",
   "execution_count": 19,
   "metadata": {},
   "outputs": [
    {
     "name": "stdout",
     "output_type": "stream",
     "text": [
      "Optimization terminated successfully.\n",
      "         Current function value: 0.357759\n",
      "         Iterations 7\n",
      "                           Logit Regression Results                           \n",
      "==============================================================================\n",
      "Dep. Variable:                  death   No. Observations:                  299\n",
      "Model:                          Logit   Df Residuals:                      293\n",
      "Method:                           MLE   Df Model:                            5\n",
      "Date:                Tue, 14 Sep 2021   Pseudo R-squ.:                  0.4300\n",
      "Time:                        08:04:25   Log-Likelihood:                -106.97\n",
      "converged:                       True   LL-Null:                       -187.67\n",
      "Covariance Type:            nonrobust   LLR p-value:                 4.957e-33\n",
      "=====================================================================================\n",
      "                        coef    std err          z      P>|z|      [0.025      0.975]\n",
      "-------------------------------------------------------------------------------------\n",
      "age                   0.0378      0.010      3.660      0.000       0.018       0.058\n",
      "ejection_fraction    -0.0745      0.016     -4.769      0.000      -0.105      -0.044\n",
      "serum_creatinine      0.7255      0.184      3.948      0.000       0.365       1.086\n",
      "time                 -0.0222      0.003     -7.604      0.000      -0.028      -0.017\n",
      "high_cpk              1.1220      0.405      2.772      0.006       0.329       1.915\n",
      "low_sodium            0.8327      0.392      2.124      0.034       0.064       1.601\n",
      "=====================================================================================\n"
     ]
    }
   ],
   "source": [
    "logit_model=sm.Logit(y, X_sig)\n",
    "result=logit_model.fit()\n",
    "print(result.summary())"
   ]
  },
  {
   "cell_type": "markdown",
   "metadata": {},
   "source": [
    "This model has a slightly lower pseudo R-squared, but the p-value is 10,000 times smaller.<br>\n",
    "With only 6 variables, this model is also much less complex than the previous model."
   ]
  },
  {
   "cell_type": "markdown",
   "metadata": {},
   "source": [
    "### Machine Learning"
   ]
  },
  {
   "cell_type": "markdown",
   "metadata": {},
   "source": [
    "Sklearn is a library used for building machine learning models. It it built on numpy, scipy, and matplotlib.<br>\n",
    "From the model selection method of sklearn, I am importing train_test_split function to split my dataset into two subets: training data and testing data.<br>\n",
    "\n",
    "The training data set is used to create our model and the testing data is used to validate our model and assess its performance.<br>\n",
    "I want a 70/30 split for my training and testing data so I am setting the test_size parameter to 0.3. <br>\n",
    "I set the stratify argument to \"DEATH_EVENT\" so that the training and testing data set both have the same proportion of mortalities in their data set.<br>\n",
    "Lastly, I am setting the random state parameter to 123. This will ensure that everytime this code is run, the training and testing data is split in the same way. "
   ]
  },
  {
   "cell_type": "code",
   "execution_count": 20,
   "metadata": {},
   "outputs": [],
   "source": [
    "from sklearn.model_selection import train_test_split"
   ]
  },
  {
   "cell_type": "code",
   "execution_count": 21,
   "metadata": {},
   "outputs": [],
   "source": [
    "X_train, X_test, y_train, y_test  = train_test_split(X_sig, y , test_size = 0.3, stratify = df['death'], random_state = 123)"
   ]
  },
  {
   "cell_type": "markdown",
   "metadata": {},
   "source": [
    "In this step we are importing the libraries from sklearn that we will need for all machine learning algorithms we are intersted in.\n",
    "We are also importing metrics from sklearn to get an accuracy score for each algorithm."
   ]
  },
  {
   "cell_type": "code",
   "execution_count": 22,
   "metadata": {},
   "outputs": [],
   "source": [
    "from sklearn.linear_model import LogisticRegression # Logistic Regression\n",
    "from sklearn import svm # Support vector machine\n",
    "from sklearn.neighbors import KNeighborsClassifier # KNN\n",
    "from sklearn.naive_bayes import GaussianNB # Naive bayes\n",
    "from sklearn import metrics # accuracy measure"
   ]
  },
  {
   "cell_type": "markdown",
   "metadata": {},
   "source": [
    "### Logistic Regression"
   ]
  },
  {
   "cell_type": "code",
   "execution_count": 23,
   "metadata": {},
   "outputs": [
    {
     "name": "stdout",
     "output_type": "stream",
     "text": [
      "0.8666666666666667\n"
     ]
    }
   ],
   "source": [
    "model_lr= LogisticRegression()\n",
    "model_lr.fit(X_train, y_train)\n",
    "prediction1 = model_lr.predict(X_test)\n",
    "print(metrics.accuracy_score(prediction1, y_test))"
   ]
  },
  {
   "cell_type": "markdown",
   "metadata": {},
   "source": [
    "### Support Vector Machine"
   ]
  },
  {
   "cell_type": "markdown",
   "metadata": {},
   "source": [
    "Support Vector Machine works by drawing the best line or hyperline that separates the patients who have 0 for death and those that have 1 for death. Our data is linearly separable and will have a linear kernel. The accuracy score should be similar to logistic regression"
   ]
  },
  {
   "cell_type": "code",
   "execution_count": 24,
   "metadata": {},
   "outputs": [
    {
     "name": "stdout",
     "output_type": "stream",
     "text": [
      "0.8777777777777778\n"
     ]
    }
   ],
   "source": [
    "model_svm = svm.SVC(kernel = 'linear')\n",
    "model_svm.fit(X_train, y_train)\n",
    "prediction2 = model_svm.predict(X_test)\n",
    "print(metrics.accuracy_score(prediction2, y_test))"
   ]
  },
  {
   "cell_type": "markdown",
   "metadata": {},
   "source": [
    "### K-Nearest Neighbors"
   ]
  },
  {
   "cell_type": "markdown",
   "metadata": {},
   "source": [
    "In K-Nearest Neighbors, for any data point the model will look at the 9 nearest data points (defined in the n_neighbors parameter) and will choose the category that \"gets the most votes\".<br>\n",
    "I chose an odd number to break any ties."
   ]
  },
  {
   "cell_type": "code",
   "execution_count": 25,
   "metadata": {},
   "outputs": [
    {
     "name": "stdout",
     "output_type": "stream",
     "text": [
      "0.8888888888888888\n"
     ]
    }
   ],
   "source": [
    "model_knn = KNeighborsClassifier(n_neighbors = 9)\n",
    "model_knn.fit(X_train, y_train)\n",
    "prediction3 = model_knn.predict(X_test)\n",
    "print(metrics.accuracy_score(prediction3, y_test))"
   ]
  },
  {
   "cell_type": "markdown",
   "metadata": {},
   "source": [
    "### Naive Bayes"
   ]
  },
  {
   "cell_type": "markdown",
   "metadata": {},
   "source": [
    "Naive Bayes is a classification technique based on the Bayes theorem. \n",
    "<br>It works well with smaller data sets but assumes each variable is linearly independent.\n",
    "<br>This might not be the case for our variables so it will be interesting to see how it performs compared to our other algorithms "
   ]
  },
  {
   "cell_type": "code",
   "execution_count": 26,
   "metadata": {},
   "outputs": [
    {
     "name": "stdout",
     "output_type": "stream",
     "text": [
      "0.8555555555555555\n"
     ]
    }
   ],
   "source": [
    "model_nb = GaussianNB()\n",
    "model_nb.fit(X_train, y_train)\n",
    "prediction4 = model_nb.predict(X_test)\n",
    "print(metrics.accuracy_score(prediction4, y_test))"
   ]
  },
  {
   "cell_type": "markdown",
   "metadata": {},
   "source": [
    "All four machine learning algorithms had very high accuracy scores that are aboe 85%, with Naive Bayes having the lowest accuracy score and K-Nearest Neighbors having the highest accuracy score."
   ]
  },
  {
   "cell_type": "markdown",
   "metadata": {},
   "source": [
    "### Confusion Matrix"
   ]
  },
  {
   "cell_type": "markdown",
   "metadata": {},
   "source": [
    "In addition to the accuracy scores, I am interested in visualizing the confusion matrix for each of the algorithms in order to see how many of outcomes were correctly predicted. I will import cross_val_predict and confusion matrix from sklearn to do this. I have added descriptive tick labels so that we can better understand the results of the confusion matrix."
   ]
  },
  {
   "cell_type": "code",
   "execution_count": 27,
   "metadata": {},
   "outputs": [],
   "source": [
    "from sklearn.model_selection import cross_val_predict # prediction"
   ]
  },
  {
   "cell_type": "code",
   "execution_count": 28,
   "metadata": {},
   "outputs": [
    {
     "data": {
      "image/png": "[encoded data removed]",
      "text/plain": [
       "<Figure size 864x864 with 4 Axes>"
      ]
     },
     "metadata": {
      "needs_background": "light"
     },
     "output_type": "display_data"
    }
   ],
   "source": [
    "from sklearn.metrics import confusion_matrix\n",
    "\n",
    "f, ax = plt.subplots(2, 2, figsize=(12, 12))\n",
    "\n",
    "y_pred = cross_val_predict(LogisticRegression(), X_sig, y, cv = 10)\n",
    "sns.heatmap(confusion_matrix(y, y_pred), ax=ax[0,0], annot=True, fmt='2.0f', cbar= False, annot_kws={'size':14})\n",
    "ax[0,0].set_title('Matrix for Logistic Regression', fontsize=14)\n",
    "ax[0,0].xaxis.set_ticklabels(['Did not die', 'Died of HF'])\n",
    "ax[0,0].yaxis.set_ticklabels(['Did not die', 'Died of HF'])\n",
    "ax[0,0].tick_params(labelsize=14)\n",
    "\n",
    "y_pred = cross_val_predict(svm.SVC(kernel = 'linear'), X_sig, y, cv = 10)\n",
    "sns.heatmap(confusion_matrix(y, y_pred), ax=ax[1,0], annot=True, fmt='2.0f', cbar = False, annot_kws={'size':14})\n",
    "ax[1,0].set_title('Matrix for Linear-SVM', fontsize=14)\n",
    "ax[1,0].xaxis.set_ticklabels(['Did not die', 'Died of HF'])\n",
    "ax[1,0].yaxis.set_ticklabels(['Did not die', 'Died of HF'])\n",
    "ax[1,0].tick_params(labelsize=14)\n",
    "\n",
    "y_pred = cross_val_predict(KNeighborsClassifier(n_neighbors = 9), X_sig, y, cv = 10)\n",
    "sns.heatmap(confusion_matrix(y, y_pred), ax=ax[0,1], annot=True, fmt='2.0f', cbar= False, annot_kws={'size':14})\n",
    "ax[0,1].set_title('Matrix for KNN', fontsize=14)\n",
    "ax[0,1].xaxis.set_ticklabels(['Did not die', 'Died of HF'])\n",
    "ax[0,1].yaxis.set_ticklabels(['Did not die', 'Died of HF'])\n",
    "ax[0,1].tick_params(labelsize=14)\n",
    "\n",
    "y_pred = cross_val_predict(GaussianNB(), X_sig, y, cv = 10)\n",
    "sns.heatmap(confusion_matrix(y, y_pred), ax=ax[1,1], annot=True, fmt='2.0f', cbar = False, annot_kws={'size':14})\n",
    "ax[1,1].set_title('Matrix for Naive Bayes', fontsize=14)\n",
    "ax[1,1].xaxis.set_ticklabels(['Did not die', 'Died of HF'])\n",
    "ax[1,1].yaxis.set_ticklabels(['Did not die', 'Died of HF'])\n",
    "ax[1,1].tick_params(labelsize=14)\n",
    "\n",
    "plt.subplots_adjust(hspace=0.2, wspace = 0.2)\n",
    "plt.show()"
   ]
  },
  {
   "cell_type": "markdown",
   "metadata": {},
   "source": [
    "In the confusion matrices above, we see that 96 people died of heart failure.<br>\n",
    "Linear SVM had the highest number of deaths correctly classified with 68 out of 96 deaths (70.8%) correctly classified.<br>\n",
    "Overall it has the highest accuracy out of all the matrices with 247 (179+68) out of 299 outcomes (82.6%) correctly classified."
   ]
  },
  {
   "cell_type": "markdown",
   "metadata": {},
   "source": [
    "### 3.5 Results\n",
    "\n",
    "This analysis showed us that the variable with the strongest correlation with mortality is the follow-up time period. This variable and the other variables that were seen to be more correlated with mortality were all determined to be statistically significant. High CPK was the one variable with relatively low correlation with mortality that was statistically significant.\n",
    "\n",
    "Of the new boolean variables that were created at the beginning of this analysis, all were found to be significant except the variables relating to platelet levels.\n",
    "\n",
    "Comparing our logistic model to other machine learning algorithms, we found that Linear Support Vector Machines performed the best at predicting outcomes as evidenced by the confusion matrices. <br>\n",
    "\n",
    "[Back to top](#Table-of-contents)"
   ]
  },
  {
   "cell_type": "markdown",
   "metadata": {},
   "source": [
    "# Conclusion\n",
    "\n",
    "My initial hypothesis that factors that evaluate cardiac tissue damage such as CPK, serum creatinine, and sodium would be predictive of heart failure is supported by my results. I was surprised to see that ejection fraction was a statistically significant variable and was suprised to see how strong of a correlation the length of the follow-up period had on heart failure mortality. I think it would be worthwhile to delve deeper into the specifics of the follow time period so that we can see if there a specific treatment or interaction in that period that we are missing. The logistic regression model and the other machine learning models did a very good job at predicting mortality and I believe if we are able to get more relevant variables to heart failure mortality we can further improve the performance of these models.\n",
    "\n",
    "In future analyses, it would be useful to have more records in our dataset. This analysis changed my perspective on what to focus on in regards to heart failure mortality but I think I would feel more confident in the model if we had more data to base it on.\n",
    "\n",
    "[Back to top](#Table-of-contents)"
   ]
  },
  {
   "cell_type": "markdown",
   "metadata": {},
   "source": [
    "# References\n",
    "\n",
    "**Data**\n",
    "- [UCI Machine Learning Repository](https://archive.ics.uci.edu/ml/datasets/Heart+failure+clinical+records)\n",
    "\n",
    "**Previous studies**\n",
    "\n",
    "- [Chicco, D., Jurman, G. Machine learning can predict survival of patients with heart failure from serum creatinine and ejection fraction alone. BMC Med Inform Decis Mak 20, 16 (2020).](https://journals.plos.org/plosone/article?id=10.1371/journal.pone.0181001)\n",
    "\n",
    "- [Tanvir Ahmad, Assia Munir, Sajjad Haider Bhatti, Muhammad Aftab, and Muhammad Ali Raza: \"Survival analysis of heart failure patients: a case study\". PLoS ONE 12(7), 0181001 (2017).](https://bmcmedinformdecismak.biomedcentral.com/articles/10.1186/s12911-020-1023-5)\n",
    "\n",
    "**Heart Failure Information**\n",
    "- [\"Heart Failure Statistics\", Emory Healthcare (2021)](https://www.emoryhealthcare.org/heart-vascular/wellness/heart-failure-statistics.html)\n",
    "- [\"HF and Your Ejection Fraction Explained\", American Heart Association (2019)](https://www.heart.org/-/media/files/health-topics/heart-failure/hf-and-your-ejection-fraction-explained.pdf?la=en)\n",
    "\n",
    "[Back to top](#Table-of-contents)"
   ]
  },
  {
   "cell_type": "code",
   "execution_count": null,
   "metadata": {},
   "outputs": [],
   "source": []
  }
 ],
 "metadata": {
  "kernelspec": {
   "display_name": "Python 3",
   "language": "python",
   "name": "python3"
  },
  "language_info": {
   "codemirror_mode": {
    "name": "ipython",
    "version": 3
   },
   "file_extension": ".py",
   "mimetype": "text/x-python",
   "name": "python",
   "nbconvert_exporter": "python",
   "pygments_lexer": "ipython3",
   "version": "3.8.8"
  }
 },
 "nbformat": 4,
 "nbformat_minor": 4
}
